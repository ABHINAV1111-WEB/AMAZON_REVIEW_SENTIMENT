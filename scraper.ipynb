{
 "cells": [
  {
   "cell_type": "code",
   "execution_count": null,
   "id": "65657724",
   "metadata": {},
   "outputs": [
    {
     "name": "stdout",
     "output_type": "stream",
     "text": [
      "1. \n",
      "2. \n",
      "3. I recently got my hands on the iQOO Z10x, and here's what’s stood out:\n",
      "\n",
      "Pros\n",
      "\n",
      "Impressive Battery Life & Charging\n",
      "With a 6,500 mAh battery, this phone comfortably handles a full day of gaming, streaming, or multitasking. The added 44 W fast charging gets you back in action without a long wait .\n",
      "\n",
      "Snappy Performance\n",
      "Powered by the efficient MediaTek Dimensity 7300 5G (4 nm), the phone offers smooth everyday use, smart power efficiency, and robust 5G performance for its price tier .\n",
      "\n",
      "Vibrant, Eye-Friendly Display\n",
      "The 6.72-inch LCD with 120 Hz refresh rate ensures silky-smooth scrolling, while 1050 nits peak brightness makes outdoor visibility excellent. TÜV Rheinland eye protection adds peace of mind for extended use .\n",
      "\n",
      "Durability Built-In\n",
      "The phone passes MIL-STD-810H tests and has an IP64 rating, meaning it's dust-resistant and can take a few splashes—great for those rough-and-ready days .\n",
      "\n",
      "Decent Main Camera with AI Perks\n",
      "The 50 MP ultra HD rear camera, complete with AI-enhanced features like AI Erase, AI Photo Enhance, and 4K video recording, delivers solid results—perfect for everyday photography and social sharing .\n",
      "\n",
      "Cons\n",
      "\n",
      "Charging Speed Could Be Better\n",
      "While 44 W charging is capable, some competitors in the same price segment offer faster charging options—something to keep in mind if top-tier speed is a priority .\n",
      "\n",
      "Camera Performance Isn’t Exceptional in Low Light\n",
      "The main shooter performs well overall, but in dim environments, it doesn’t quite match up to higher-end successors or flagship phones .\n",
      "\n",
      "Software Experience Could Be Cleaner\n",
      "A few pre-installed apps can detract from the user experience. Also, some users mentioned heating issues during heavy charging, though experiences seem to vary .\n",
      "\n",
      "---\n",
      "\n",
      "Final Verdict\n",
      "\n",
      "The iQOO Z10x is a smart pick for anyone looking for a solid, everyday smartphone that excels in battery life, display quality, and durability—all at a budget-friendly price. It's not perfect, but it offers great value, especially for users who prioritize longevity, display comfort, and performance.\n",
      "4. \n",
      "5. \n",
      "6. \n",
      "7. \n",
      "8. \n",
      "9. \n",
      "10. \n"
     ]
    }
   ],
   "source": [
    "# Imports the main Selenium module to control the browser.\n",
    "from selenium import webdriver \n",
    "# Imports the Service class to specify the path to your chromedriver.exe.\n",
    "from selenium.webdriver.chrome.service import Service\n",
    "from selenium.webdriver.common.by import By\n",
    "import time\n",
    "\n",
    "# Setup ChromeDriver Creates a Service object pointing to your ChromeDriver executable.\n",
    "service = Service(\"E:\\PWSKILLS\\PROJECT\\ML\\Amazon-Reviews\\chromedriver-win64\\chromedriver.exe\")\n",
    "\n",
    "#Creates a Service object pointing to your ChromeDriver executable.\n",
    "driver = webdriver.Chrome(service=service)\n",
    "\n",
    "# Open Amazon review page\n",
    "driver.get(\"https://www.amazon.in/product-reviews/B0F2T7B9TM\")\n",
    "time.sleep(55) # Pauses the script for 55 seconds to allow the page to fully load.\n",
    "\n",
    "# Extract reviews: Finds all HTML elements with the class name \"review-text-content\" (used by Amazon to wrap review text).\n",
    "reviews = driver.find_elements(By.CLASS_NAME, \"review-text-content\") # Returns a list of matching elements.\n",
    "\n",
    "# Loops through the first 10 reviews.\n",
    "# r.text.strip() extracts and cleans the review text.\n",
    "# Prints each review with its index number.\n",
    "for idx, r in enumerate(reviews[:10], start=1): # idx: the position of the item in the list (starting from 1)\n",
    "    print(f\"{idx}. {r.text.strip()}\") # r: the actual review element (a Selenium WebElement)\n",
    "\n",
    "driver.quit() # Closes the browser window and ends the Selenium session.\n"
   ]
  }
 ],
 "metadata": {
  "kernelspec": {
   "display_name": ".venv",
   "language": "python",
   "name": "python3"
  },
  "language_info": {
   "codemirror_mode": {
    "name": "ipython",
    "version": 3
   },
   "file_extension": ".py",
   "mimetype": "text/x-python",
   "name": "python",
   "nbconvert_exporter": "python",
   "pygments_lexer": "ipython3",
   "version": "3.11.9"
  }
 },
 "nbformat": 4,
 "nbformat_minor": 5
}
